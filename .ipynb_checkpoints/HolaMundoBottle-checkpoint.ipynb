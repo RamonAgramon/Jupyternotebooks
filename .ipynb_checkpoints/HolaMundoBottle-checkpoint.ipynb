{
 "cells": [
  {
   "cell_type": "code",
   "execution_count": null,
   "metadata": {},
   "outputs": [],
   "source": [
    "pip install bottle"
   ]
  },
  {
   "cell_type": "code",
   "execution_count": null,
   "metadata": {},
   "outputs": [],
   "source": [
    "from bottle import route, run\n",
    "\n",
    "@route('/hola')\n",
    "def hello():\n",
    "    return \"Hola mundo!\"\n",
    "run(host='0.0.0.0', port=5000, debug=True)"
   ]
  },
  {
   "cell_type": "markdown",
   "metadata": {},
   "source": [
    "**Route()** ***es un decorador que conecta una funcion a una URL, en este caso conectamos la ruta /hola a la función hello(). Esto es llamdo una ruta, y es uno de los conceptos mas importantes de este framework. Se puede definir tantas rutas como sean necesarias, y cuando desde un navegador solicite una URL, la función asociada a esta ruta sera ejecutada y responderá al navegador.***"
   ]
  },
  {
   "cell_type": "markdown",
   "metadata": {},
   "source": [
    "**La función run()** ***en las ultimas lineas inicia el servidor web de desarrollo, este se ejecuta en local en el puerto 5000(puede definirse el puerto), y responde a las solicitudes hasta que precionamos ctrl-c.\n",
    "Podemos cambiar el servidor,  esto en caso de llevar a \"produccion\" nuestra aplicacion, pero para desarrollo con las opciones default nos es suficiente, no necesita istalarse y es lo mas sencillo para nuestra aplicación.***"
   ]
  },
  {
   "cell_type": "markdown",
   "metadata": {},
   "source": [
    "## La aplicación default\n",
    "\n",
    "**Podemos** ***observar en el ejemplo que usamos el decorador route() para definir las rutas, esto añade las rutas a nuestra aplicacion default, una instancia que se crea la primera vez que usamos el decorador route(), perp para seguir un snfoque mas orientado a objetos, crearemos primero la instancia de la aplicación y añadiremos estas rutas a nuestra instancia explicitamente.***"
   ]
  },
  {
   "cell_type": "code",
   "execution_count": null,
   "metadata": {},
   "outputs": [],
   "source": [
    "from bottle import Bottle, run\n",
    "\n",
    "app = Bottle()\n",
    "\n",
    "@app.route('/hola')\n",
    "def hello():\n",
    "    return \"Hola mundo!\"\n",
    "\n",
    "run(app, host='0.0.0.0', port=5000, debug=True)"
   ]
  },
  {
   "cell_type": "markdown",
   "metadata": {},
   "source": [
    "## Añadiendo una ruta mas\n",
    "\n",
    "***Podemos añadir mas de una ruta a una función, ademas podemos añadir \"comodines\" (wildcards) a la ruta para hacerla dinamica. Ademas veremos en accion en modulo template, donde nuestra funcion regresara un valor y sera remplazado en nuestro HTML."
   ]
  },
  {
   "cell_type": "code",
   "execution_count": null,
   "metadata": {},
   "outputs": [],
   "source": [
    "from bottle import Bottle, run, template\n",
    "\n",
    "app = Bottle()\n",
    "\n",
    "@app.route('/')\n",
    "@app.route('/hola/<name>')\n",
    "def hello(name='Extraño'):\n",
    "    return template('Hola {{name}}, como estas?', name= name)\n",
    "\n",
    "\n",
    "run(app, host='0.0.0.0', port=5000, debug=True)"
   ]
  },
  {
   "cell_type": "code",
   "execution_count": 1,
   "metadata": {},
   "outputs": [
    {
     "name": "stderr",
     "output_type": "stream",
     "text": [
      "Bottle v0.12.16 server starting up (using WSGIRefServer())...\n",
      "Listening on http://0.0.0.0:5000/\n",
      "Hit Ctrl-C to quit.\n",
      "\n",
      "10.0.2.2 - - [15/Mar/2019 11:06:33] \"GET /login HTTP/1.1\" 200 203\n",
      "10.0.2.2 - - [15/Mar/2019 11:06:38] \"POST /login HTTP/1.1\" 303 0\n",
      "10.0.2.2 - - [15/Mar/2019 11:06:38] \"GET /loged/Ramon HTTP/1.1\" 200 17\n",
      "/home/vagrant/.local/share/virtualenvs/Jupyternotebooks-vMpxa5dg/lib/python3.6/site-packages/bottle.py:3131: ResourceWarning: unclosed <socket.socket fd=54, family=AddressFamily.AF_INET, type=SocketKind.SOCK_STREAM, proto=0, laddr=('0.0.0.0', 5000)>\n",
      "  pass\n"
     ]
    }
   ],
   "source": [
    "from bottle import Bottle, run, template, request, redirect\n",
    "\n",
    "app = Bottle()\n",
    "\n",
    "@app.route('/')\n",
    "@app.route('/hola/<name>')\n",
    "def hello(name='Extraño'):\n",
    "    return template('Hola {{name}}, como estas?', name=name)\n",
    "\n",
    "@app.route('/loged/<name>')\n",
    "def loged(name='Extraño'):\n",
    "    return template('''You're in! {{name}} ''',name=name)\n",
    "\n",
    "def checklogin(username, password):\n",
    "    islogged = False\n",
    "    if username == 'Ramon' and password == '123':\n",
    "        islogged = True\n",
    "    return islogged\n",
    "\n",
    "@app.route('/login', method='GET')\n",
    "def login():\n",
    "    isFailed = '0' if request.query.Failed == '' else request.query.Failed\n",
    "    \n",
    "    formString = '''<form action=\"/login\" method=\"post\">\n",
    "    Username: <input name=\"username\" type=\"text\" />\n",
    "    Password: <input name=\"password\" type=\"password\" />\n",
    "    <input value=\"Login\" type=\"submit\" />\n",
    "    </form>\n",
    "    '''\n",
    "    \n",
    "    if int(isFailed) == 1:\n",
    "        return '<p><strong>Login failed!</p>'+formString\n",
    "    else:\n",
    "        return formString\n",
    "\n",
    "@app.post('/login') # or @route('/login', method='POST')\n",
    "def do_login():\n",
    "    username = request.forms.get('username')\n",
    "    password = request.forms.get('password')\n",
    "    if checklogin(username,password):\n",
    "        redirect(f\"/loged/{username}\")\n",
    "    else:\n",
    "        redirect(\"/login?Failed=1\")\n",
    "          \n",
    "run(app, host='0.0.0.0', port=5000, debug=True)"
   ]
  },
  {
   "cell_type": "code",
   "execution_count": null,
   "metadata": {},
   "outputs": [],
   "source": []
  }
 ],
 "metadata": {
  "kernelspec": {
   "display_name": "Python 3",
   "language": "python",
   "name": "python3"
  },
  "language_info": {
   "codemirror_mode": {
    "name": "ipython",
    "version": 3
   },
   "file_extension": ".py",
   "mimetype": "text/x-python",
   "name": "python",
   "nbconvert_exporter": "python",
   "pygments_lexer": "ipython3",
   "version": "3.6.8"
  }
 },
 "nbformat": 4,
 "nbformat_minor": 2
}
