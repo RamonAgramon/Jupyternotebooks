{
 "cells": [
  {
   "cell_type": "markdown",
   "metadata": {},
   "source": [
    " # Api Rest"
   ]
  },
  {
   "cell_type": "markdown",
   "metadata": {},
   "source": [
    "***♦API es un conjunto de reglas y especificaciones que las aplicaciones pueden seguir para comunicarse entre ellas. Para que lo entendamos, el uso de una API es el mecanismo más útil para conectar dos softwares entre sí, de esta manera, podemos garantizar el intercambio de mensajes o datos en formato estándar.\n",
    " Una de las principales funciones de la API es que pueden utilizarse para comunicarse con un sistema operativo que tenga bases de datos o protocolos de comunicaciones.***\n",
    " \n",
    "***♦API Rest es una interfaz de programación de aplicaciones que se apoya en la arquitectura REST para el desarrollo de aplicaciones en red. Aprovechando el lenguaje HTML, permite que cualquier empresa cree aplicaciones web sin problemas, aunque siempre en base a las restricciones que supone.***"
   ]
  },
  {
   "cell_type": "markdown",
   "metadata": {},
   "source": [
    "# Características de las API REST"
   ]
  },
  {
   "cell_type": "markdown",
   "metadata": {},
   "source": [
    "***► Protocolo cliente/servidor sin estado\n",
    "Cada petición HTTP contiene toda la información necesaria para ejecutarla, por tanto, esto permite que ni cliente ni servidor necesiten recordar ningún estado previo.*** \n",
    "\n",
    "***► Cuatro operaciones más importantes\n",
    "Las operaciones más importantes relacionadas con los datos en cualquier sistema REST y la especificación HTTP son cuatro; POST (crear), GET (leer y consultar), PUT (editar) y DELETE (borrar).***\n",
    "\n",
    "***► Objetos en REST manipulados con URI\n",
    "La URI es el identificador único de cada recurso de un sistema REST. Esta, nos facilita el acceso a la información, para poder modificarla o borrarla. También para compartir su ubicación exacta a terceros.***\n",
    "\n",
    "***► Interfaz uniforme\n",
    "Para poder realizar una transferencia de datos en un sistema REST, este aplica acciones concretas (POST, GET, PUT y DELETE) sobre los recursos, siempre y cuando estén identificados con una URI. Esto lo que permite es facilitar la existencia de una interfaz uniforme que sistematiza el proceso con la información.***\n",
    "\n",
    "***► Sistema de capas\n",
    "Su estructura o arquitectura es jerárquica entre sus componentes, y cada una de estas capas, lleva a cabo una funcionalidad dentro del sistema REST.***\n",
    "\n",
    "***► Utilización de hipermedios\n",
    "El concepto hipermedio utilizado en los casos de API REST sirve para explicar la capacidad de un interfaz de desarrollo de aplicaciones para proporcionar al cliente y al usuarios los enlaces adecuados, y  ejecutar acciones concretas sobre los datos.*** "
   ]
  },
  {
   "cell_type": "markdown",
   "metadata": {},
   "source": [
    "# Para qué sirve la Api de rest"
   ]
  },
  {
   "cell_type": "markdown",
   "metadata": {},
   "source": [
    "***sirve para poder desarrollar aplicaciones que se comuniquen mejor entre ellas, estableciendo un escenario con una serie de restricciones que permiten que esta comunicación se haga de forma efectiva. Esa es la utilidad a la que nos podemos ceñir si nos limitamos a su papel en el campo del software; sin embargo, mirando desde el campo empresarial, tiene mucho más detrás.***"
   ]
  },
  {
   "cell_type": "markdown",
   "metadata": {},
   "source": [
    "# métodos de petición"
   ]
  },
  {
   "cell_type": "markdown",
   "metadata": {},
   "source": [
    "### GET\n",
    "***El método GET  solicita una representación de un recurso específico. Las peticiones que usan el método GET sólo deben recuperar datos.***\n",
    "\n",
    "### HEAD\n",
    "***El método HEAD pide una respuesta idéntica a la de una petición GET, pero sin el cuerpo de la respuesta.***\n",
    "\n",
    "### POST\n",
    "***El método POST se utiliza para enviar una entidad a un recurso en específico, causando a menudo un cambio en el estado o efectos secundarios en el servidor.***\n",
    "\n",
    "### PUT\n",
    "***El modo PUT reemplaza todas las representaciones actuales del recurso de destino con la carga útil de la petición.***\n",
    "\n",
    "### DELETE\n",
    "***El método DELETE borra un recurso en específico.***\n",
    "\n",
    "### CONNECT\n",
    "***El método CONNECT establece un túnel hacia el servidor identificado por el recurso.***\n",
    "\n",
    "### OPTIONS\n",
    "***El método OPTIONS es utilizado para describir las opciones de comunicación para el recurso de destino.***\n",
    "\n",
    "### TRACE\n",
    "***El método TRACE  realiza una prueba de bucle de retorno de mensaje a lo largo de la ruta al recurso de destino.***\n",
    "\n",
    "### PATCH\n",
    "***El método PATCH  es utilizado para aplicar modificaciones parciales a un recurso.***"
   ]
  },
  {
   "cell_type": "code",
   "execution_count": null,
   "metadata": {},
   "outputs": [],
   "source": []
  }
 ],
 "metadata": {
  "kernelspec": {
   "display_name": "Python 3",
   "language": "python",
   "name": "python3"
  },
  "language_info": {
   "codemirror_mode": {
    "name": "ipython",
    "version": 3
   },
   "file_extension": ".py",
   "mimetype": "text/x-python",
   "name": "python",
   "nbconvert_exporter": "python",
   "pygments_lexer": "ipython3",
   "version": "3.6.8"
  }
 },
 "nbformat": 4,
 "nbformat_minor": 2
}
